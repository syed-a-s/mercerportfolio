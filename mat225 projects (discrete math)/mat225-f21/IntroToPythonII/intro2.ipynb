{
 "cells": [
  {
   "cell_type": "markdown",
   "metadata": {
    "collapsed": false
   },
   "source": [
    "# Review of `for` loops\n",
    "\n",
    "Here we use a loop to compute the sum: $$\\ln(x+1)=\\sum_{i=1}^N (-1)^{i+1}\\dfrac{x^i}{i}$$"
   ]
  },
  {
   "cell_type": "code",
   "execution_count": 3,
   "metadata": {
    "collapsed": false
   },
   "outputs": [
    {
     "name": "stdout",
     "output_type": "stream",
     "text": [
      "0.4055323040674603\n"
     ]
    }
   ],
   "source": [
    "# sum for ln(1+x) - converges when -1 <= x < 1\n",
    "x = 0.5\n",
    "N = 10\n",
    "sum = 0\n",
    "for i in range(1, N) :\n",
    "    sum = sum + float((-1) ** (i+1)) * float (x) ** i/ float(i)\n",
    "print (sum)"
   ]
  },
  {
   "cell_type": "code",
   "execution_count": 0,
   "metadata": {
    "collapsed": false
   },
   "outputs": [
   ],
   "source": [
   ]
  },
  {
   "cell_type": "code",
   "execution_count": 11,
   "metadata": {
    "collapsed": false
   },
   "outputs": [
   ],
   "source": [
    "# function\n",
    "\n",
    "def truth(p, q, r) :\n",
    "    result = not(p) and (q or not(r))\n",
    "    return (result)"
   ]
  },
  {
   "cell_type": "code",
   "execution_count": 0,
   "metadata": {
    "collapsed": false
   },
   "outputs": [
   ],
   "source": [
   ]
  },
  {
   "cell_type": "code",
   "execution_count": 6,
   "metadata": {
    "collapsed": false
   },
   "outputs": [
    {
     "name": "stdout",
     "output_type": "stream",
     "text": [
      "True True True False\n",
      "True True False False\n",
      "True False True False\n",
      "True False False False\n",
      "False True True True\n",
      "False True False True\n",
      "False False True False\n",
      "False False False True\n"
     ]
    }
   ],
   "source": [
    "for p in [True, False] :\n",
    "    for q in [True, False] :\n",
    "        for r in [True, False] :\n",
    "            print(p, q ,r, truth(p, q, r))"
   ]
  },
  {
   "cell_type": "code",
   "execution_count": 12,
   "metadata": {
    "collapsed": false
   },
   "outputs": [
    {
     "name": "stdout",
     "output_type": "stream",
     "text": [
      "True True True False\n",
      "True True False False\n",
      "True False True False\n",
      "True False False False\n",
      "False True True True\n",
      "False True False True\n",
      "False False True False\n",
      "False False False True\n"
     ]
    }
   ],
   "source": [
    "\n",
    "for p in [True, False] :\n",
    "    for q in [True, False] :\n",
    "        for r in [True, False] :\n",
    "            print(p, q ,r, truth(p, q, r))"
   ]
  },
  {
   "cell_type": "code",
   "execution_count": 13,
   "metadata": {
    "collapsed": false
   },
   "outputs": [
    {
     "name": "stdout",
     "output_type": "stream",
     "text": [
      "True False False\n",
      "True True True\n",
      "False False False\n",
      "False True False\n"
     ]
    }
   ],
   "source": [
    "for p in [True, False] :\n",
    "    for q in [False, True] :\n",
    "        print(p, q, p and q)"
   ]
  },
  {
   "cell_type": "code",
   "execution_count": 0,
   "metadata": {
    "collapsed": false
   },
   "outputs": [
   ],
   "source": [
   ]
  }
 ],
 "metadata": {
  "kernelspec": {
   "display_name": "SageMath 9.3",
   "language": "sagemath",
   "metadata": {
    "cocalc": {
     "description": "Open-source mathematical software system",
     "priority": 1,
     "url": "https://www.sagemath.org/"
    }
   },
   "name": "sage-9.3",
   "resource_dir": "/ext/jupyter/kernels/sage-9.3"
  },
  "language_info": {
   "codemirror_mode": {
    "name": "ipython",
    "version": 3
   },
   "file_extension": ".py",
   "mimetype": "text/x-python",
   "name": "python",
   "nbconvert_exporter": "python",
   "pygments_lexer": "ipython3",
   "version": "3.9.2"
  }
 },
 "nbformat": 4,
 "nbformat_minor": 4
}