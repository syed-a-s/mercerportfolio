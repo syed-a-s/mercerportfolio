{
  "cells": [
    {
      "cell_type": "markdown",
      "metadata": {
        "collapsed": false,
        "deletable": false,
        "editable": false,
        "nbgrader": {
          "grade": false,
          "grade_id": "0a9e74",
          "locked": true,
          "schema_version": 3,
          "solution": false,
          "task": false
        }
      },
      "source": [
        "## Convert to Binary"
      ]
    },
    {
      "cell_type": "code",
      "execution_count": 16,
      "metadata": {
        "collapsed": false,
        "deletable": false,
        "nbgrader": {
          "checksum": "2fc5754a5023cc44e9cee5a449cc7499",
          "grade": false,
          "grade_id": "d39095",
          "locked": false,
          "schema_version": 3,
          "solution": true,
          "task": false
        }
      },
      "outputs": [],
      "source": [
        "def bin(n):\n",
        "    result = []\n",
        "    q = n\n",
        "    while (q > 0) :\n",
        "        r = q % 2\n",
        "        q = q //2\n",
        "        result.append(r)\n",
        "    result.reverse()\n",
        "    return result\n",
        "    \n",
        "    raise NotImplementedError()"
      ]
    },
    {
      "cell_type": "markdown",
      "metadata": {
        "collapsed": false,
        "deletable": false,
        "editable": false,
        "nbgrader": {
          "grade": false,
          "grade_id": "af8fad",
          "locked": true,
          "schema_version": 3,
          "solution": false,
          "task": false
        }
      },
      "source": [
        "## Testing"
      ]
    },
    {
      "cell_type": "code",
      "execution_count": 13,
      "metadata": {
        "collapsed": false,
        "nbgrader": {
          "grade": true,
          "grade_id": "7dd5ce",
          "locked": true,
          "points": 1,
          "schema_version": 3,
          "solution": false,
          "task": false
        }
      },
      "outputs": [],
      "source": [
        "# Check that bin function returns the correct output for several inputs:\n",
        "from nose.tools import assert_equal\n",
        "assert_equal(bin(34), [1, 0, 0, 0, 1, 0])\n",
        "assert_equal(bin(42), [1, 0, 1, 0, 1, 0])\n",
        "assert_equal(bin(121), [1, 1, 1, 1, 0, 0, 1])\n",
        "\n",
        "\n"
      ]
    },
    {
      "cell_type": "code",
      "execution_count": 0,
      "metadata": {
        "collapsed": false
      },
      "outputs": [],
      "source": []
    }
  ],
  "metadata": {
    "kernelspec": {
      "display_name": "Python 3 (system-wide)",
      "language": "python",
      "metadata": {
        "cocalc": {
          "description": "Python 3 programming language",
          "priority": 100,
          "url": "https://www.python.org/"
        }
      },
      "name": "python3",
      "resource_dir": "/ext/jupyter/kernels/python3"
    }
  },
  "nbformat": 4,
  "nbformat_minor": 4
}