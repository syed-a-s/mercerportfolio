{
 "cells": [
  {
   "cell_type": "markdown",
   "metadata": {
    "collapsed": false
   },
   "source": [
    "## Example\n",
    "Here is some example code to show a nice way to pass multiple results out of a function."
   ]
  },
  {
   "cell_type": "code",
   "execution_count": 4,
   "metadata": {
    "collapsed": false
   },
   "outputs": [
   ],
   "source": [
    "def example(p,q):\n",
    "    s=p and q\n",
    "    c=p or q\n",
    "    return (c,s)"
   ]
  },
  {
   "cell_type": "code",
   "execution_count": 7,
   "metadata": {
    "collapsed": false
   },
   "outputs": [
   ],
   "source": [
    "(C1,S1)=example(True,False)"
   ]
  },
  {
   "cell_type": "code",
   "execution_count": 8,
   "metadata": {
    "collapsed": false
   },
   "outputs": [
    {
     "data": {
      "text/plain": [
       "True"
      ]
     },
     "execution_count": 8,
     "metadata": {
     },
     "output_type": "execute_result"
    }
   ],
   "source": [
    "C1"
   ]
  },
  {
   "cell_type": "code",
   "execution_count": 9,
   "metadata": {
    "collapsed": false
   },
   "outputs": [
    {
     "data": {
      "text/plain": [
       "False"
      ]
     },
     "execution_count": 9,
     "metadata": {
     },
     "output_type": "execute_result"
    }
   ],
   "source": [
    "S1"
   ]
  },
  {
   "cell_type": "markdown",
   "metadata": {
    "collapsed": false
   },
   "source": [
    "# Do your assignment below here."
   ]
  },
  {
   "cell_type": "code",
   "execution_count": 1,
   "metadata": {
    "collapsed": false
   },
   "outputs": [
    {
     "name": "stdout",
     "output_type": "stream",
     "text": [
      "True True (True, False)\n",
      "True False (False, True)\n",
      "False True (False, True)\n",
      "False False (False, False)\n"
     ]
    }
   ],
   "source": [
    "# part 1 - half adder\n",
    "\n",
    "def half_adder(p, q) : \n",
    "    c = p and q\n",
    "    s = (p and not q) or (not p and q)\n",
    "    return c,s\n",
    "    \n",
    "for p in [True, False] :\n",
    "    for q in [True, False] :\n",
    "        print (p, q, half_adder(p, q))"
   ]
  },
  {
   "cell_type": "code",
   "execution_count": 2,
   "metadata": {
    "collapsed": false,
    "scrolled": true
   },
   "outputs": [
    {
     "name": "stdout",
     "output_type": "stream",
     "text": [
      "True True True (True, True)\n",
      "True True False (True, False)\n",
      "True False True (True, False)\n",
      "True False False (False, True)\n",
      "False True True (True, False)\n",
      "False True False (False, True)\n",
      "False False True (False, True)\n",
      "False False False (False, False)\n"
     ]
    }
   ],
   "source": [
    "# part 2 - full adder\n",
    "\n",
    "def full_adder(p, q, r) :\n",
    "    c1, s1 = half_adder(p, q)\n",
    "    c2, s2 = half_adder(s1, r)\n",
    "    c = c1 or c2\n",
    "    s = s2\n",
    "    return c, s\n",
    "\n",
    "for p in [True, False] :\n",
    "    for q in [True, False] :\n",
    "        for r in [True, False] :\n",
    "            print (p, q, r, full_adder(p, q, r))"
   ]
  },
  {
   "cell_type": "code",
   "execution_count": 3,
   "metadata": {
    "collapsed": false
   },
   "outputs": [
    {
     "name": "stdout",
     "output_type": "stream",
     "text": [
      "(True, True, False, False)\n",
      "(False, True, False, True)\n",
      "(False, True, False, True)\n",
      "(False, False, False, True)\n",
      "(False, False, True, True)\n"
     ]
    }
   ],
   "source": [
    "# part 3 - parallel adder\n",
    "\n",
    "def parallel_adder(p, q, r, s, t, u) :\n",
    "    c1, s1 = half_adder(r, u)\n",
    "    c2, s2 = full_adder(c1, q, t)\n",
    "    c3, s3 = full_adder(c2, p, s)\n",
    "    return c3, s3, s2, s1\n",
    "\n",
    "# Sum of 111 + 101\n",
    "print(parallel_adder(True, True, True, True, False, True))\n",
    "\n",
    "# Sum of 100 + 001\n",
    "print(parallel_adder(True, False, False, False, False, True))\n",
    "\n",
    "# Sum of 010 + 011\n",
    "print(parallel_adder(False, True, False, False, True, True))\n",
    "\n",
    "# Sum of 000 + 001\n",
    "print(parallel_adder(False, False, False, False, False, True))\n",
    "\n",
    "# Sum of 001 + 010\n",
    "print(parallel_adder(False, False, True, False, True, False))\n"
   ]
  },
  {
   "cell_type": "code",
   "execution_count": 4,
   "metadata": {
    "collapsed": false
   },
   "outputs": [
   ],
   "source": [
    "# (True, True, False, False) = 1100 = 111 + 101\n",
    "# (False, True, False, True) = 0101 = 100 + 001\n",
    "# (False, True, False, True) = 0101 = 010 + 011\n",
    "# (False, False, False, True) = 0001 = 000 + 001\n",
    "#(False, False, True, True) = 0011 = 001 + 010"
   ]
  },
  {
   "cell_type": "code",
   "execution_count": 0,
   "metadata": {
    "collapsed": false
   },
   "outputs": [
   ],
   "source": [
   ]
  }
 ],
 "metadata": {
  "kernelspec": {
   "display_name": "SageMath 9.4",
   "language": "sagemath",
   "metadata": {
    "cocalc": {
     "description": "Open-source mathematical software system",
     "priority": 10,
     "url": "https://www.sagemath.org/"
    }
   },
   "name": "sage-9.4",
   "resource_dir": "/ext/jupyter/kernels/sage-9.4"
  },
  "language_info": {
   "codemirror_mode": {
    "name": "ipython",
    "version": 3
   },
   "file_extension": ".py",
   "mimetype": "text/x-python",
   "name": "python",
   "nbconvert_exporter": "python",
   "pygments_lexer": "ipython3",
   "version": "3.9.5"
  }
 },
 "nbformat": 4,
 "nbformat_minor": 4
}