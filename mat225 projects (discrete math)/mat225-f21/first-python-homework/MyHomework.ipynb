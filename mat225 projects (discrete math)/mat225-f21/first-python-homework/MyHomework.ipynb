{
 "cells": [
  {
   "cell_type": "code",
   "execution_count": 1,
   "metadata": {
    "collapsed": false
   },
   "outputs": [
    {
     "name": "stdout",
     "output_type": "stream",
     "text": [
      "True True True None\n",
      "True True False None\n",
      "True False True None\n",
      "True False False None\n",
      "False True True None\n",
      "False True False None\n",
      "False False True None\n",
      "False False False None\n"
     ]
    }
   ],
   "source": [
    "def truth1 (p, q, r) :\n",
    "    result = (not p or q) and (not q or r)\n",
    "    result\n",
    "    \n",
    "for p in [True, False] :\n",
    "    for q in [True, False] : \n",
    "        for r in [True, False] :\n",
    "            print (p, q, r, truth1(p, q, r))"
   ]
  },
  {
   "cell_type": "code",
   "execution_count": 5,
   "metadata": {
    "collapsed": false
   },
   "outputs": [
    {
     "name": "stdout",
     "output_type": "stream",
     "text": [
      "True True True True\n",
      "True True False False\n",
      "True False True False\n",
      "True False False False\n",
      "False True True True\n",
      "False True False False\n",
      "False False True True\n",
      "False False False True\n"
     ]
    }
   ],
   "source": [
    "def truth2 (p, q, r) : \n",
    "    result = (not p or q) and (not q or r)\n",
    "    return result\n",
    "\n",
    "for p in [True, False] :\n",
    "    for q in [True, False] :\n",
    "        for r in [True, False] :\n",
    "            print(p, q ,r, truth2(p, q, r))\n",
    "\n",
    "# code is the same because (p or q) -> r = (p -> r) and (q -> r) = (~p or q) and (~q or r)"
   ]
  },
  {
   "cell_type": "code",
   "execution_count": 5,
   "metadata": {
    "collapsed": false
   },
   "outputs": [
    {
     "name": "stdout",
     "output_type": "stream",
     "text": [
      "1.5300172735634443\n",
      "1.5507886317191344\n",
      "1.566854572970446\n"
     ]
    }
   ],
   "source": [
    "def Wallis (N) : \n",
    "    product = 1\n",
    "    for k in range (1, N) :\n",
    "        product = product * ( float(2 * k) / float (2 * k - 1) ) * ( float(2 * k ) / float(2 * k + 1) )\n",
    "    print(product)\n",
    "    \n",
    "Wallis(10)\n",
    "Wallis(20)\n",
    "Wallis(100)"
   ]
  },
  {
   "cell_type": "code",
   "execution_count": 0,
   "metadata": {
    "collapsed": false
   },
   "outputs": [
   ],
   "source": [
   ]
  }
 ],
 "metadata": {
  "kernelspec": {
   "display_name": "Python 3 (system-wide)",
   "language": "python",
   "metadata": {
    "cocalc": {
     "description": "Python 3 programming language",
     "priority": 100,
     "url": "https://www.python.org/"
    }
   },
   "name": "python3",
   "resource_dir": "/ext/jupyter/kernels/python3"
  },
  "language_info": {
   "codemirror_mode": {
    "name": "ipython",
    "version": 3
   },
   "file_extension": ".py",
   "mimetype": "text/x-python",
   "name": "python",
   "nbconvert_exporter": "python",
   "pygments_lexer": "ipython3",
   "version": "3.8.10"
  }
 },
 "nbformat": 4,
 "nbformat_minor": 4
}