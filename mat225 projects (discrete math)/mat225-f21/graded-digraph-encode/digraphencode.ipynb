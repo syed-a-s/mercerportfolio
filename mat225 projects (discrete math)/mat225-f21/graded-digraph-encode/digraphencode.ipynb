{
 "cells": [
  {
   "cell_type": "code",
   "execution_count": 5,
   "metadata": {
    "collapsed": false
   },
   "outputs": [
   ],
   "source": [
    "# Converts a string into ascii value shifted left by 97\n",
    "def StringToInteger(x):\n",
    "    return(ord(x)-97)\n",
    "\n",
    "# Returns a digraph of letters from a ascii message list\n",
    "def MakeLetterPairs(msgList):\n",
    "    letterPairs = []\n",
    "    for k in range (0, len(msgList)-1, 2):\n",
    "        letterPairs.append([msgList[k], msgList[k+1]])\n",
    "    return letterPairs\n",
    "\n",
    "# Converts and returns a list of base 26^2 ints from a digraph\n",
    "def ToBase26Sqr(digraphList):\n",
    "    base26SqrIntList = []\n",
    "    for a, b in digraphList:\n",
    "        base26SqrIntList.append(a*26 + b)\n",
    "    return base26SqrIntList\n",
    "\n",
    "# Ciphers an int with base 26^2\n",
    "def AffineCipher(p):\n",
    "    return ((15 * p + 3) % (26 * 26))\n",
    "\n",
    "# Decodes a cipher that has been ciphered with base 26^2\n",
    "def AffineCipherDecode(c):\n",
    "    return ((631*(c-3)) % (26 * 26))\n",
    "\n",
    "# Dividing by 26 and mod 26\n",
    "def dummy(step1):\n",
    "    letterPairs = []\n",
    "    for k in range(0, len(step1) - 1, 2):\n",
    "        letterPairs.append([int(step1[k] / 26), int(step1[k+1] % 26)])\n",
    "    return letterPairs\n",
    "\n",
    "def dummy1(step1):\n",
    "    letterPairs = []\n",
    "    for k in range(0, len(step1) - 1, 2):\n",
    "        letterPairs.append([int(step1[k] * 26), int(step1[k+1] / 26)])\n",
    "    return letterPairs\n",
    "\n",
    "# Converts ascii value into character. 97 added to cancel left shift  \n",
    "def IntegerToString(x):\n",
    "    return(chr(x+97))\n",
    "\n",
    "# Decodes an encoded string with base 26^2\n",
    "def DecodeMsg(msg):\n",
    "    msgList = list(map(StringToInteger, msg))\n",
    "    letterPairs = MakeLetterPairs(msgList)\n",
    "    base26SqrIntList = ToBase26Sqr(letterPairs)\n",
    "    step1 = list(map(AffineCipherDecode, base26SqrIntList))\n",
    "    step2 = dummy(step1)\n",
    "    return DigraphToString(step2)\n",
    "\n",
    "# Encode a given string with base 26^2\n",
    "def EncodeMsg(msg):\n",
    "    msgList = list(map(StringToInteger, msg))\n",
    "    letterPairs = MakeLetterPairs(msgList)\n",
    "    base26SqrIntList = ToBase26Sqr(letterPairs)\n",
    "    step1 = list(map(AffineCipher, base26SqrIntList))\n",
    "    step2 = dummy(step1)\n",
    "    return DigraphToString(step2)\n",
    "\n",
    "# Returns a string from a list of digraphs\n",
    "def DigraphToString(digraph):\n",
    "    s = \"\"\n",
    "    for a,b in digraph:\n",
    "        s += IntegerToString(a) + IntegerToString(b)\n",
    "    return(s)"
   ]
  },
  {
   "cell_type": "code",
   "execution_count": 6,
   "metadata": {
    "collapsed": false
   },
   "outputs": [
    {
     "data": {
      "text/plain": [
       "'idontknowx'"
      ]
     },
     "execution_count": 6,
     "metadata": {
     },
     "output_type": "execute_result"
    }
   ],
   "source": [
    "hello = [[7,4], [11,11], [14,23]]\n",
    "DigraphToString(hello)\n",
    "\n",
    "idk = [ [8, 3], [14, 13], [19, 10], [13, 14], [22, 23] ]\n",
    "DigraphToString(idk)\n"
   ]
  },
  {
   "cell_type": "code",
   "execution_count": 7,
   "metadata": {
    "collapsed": false
   },
   "outputs": [
    {
     "name": "stdout",
     "output_type": "stream",
     "text": [
      "athatiasakefptes\n",
      "bnwcbn\n",
      "pt\n"
     ]
    }
   ],
   "source": [
    "# Test Case\n",
    "msg = \"hblcdlyddtithqanhbfxryfardkcryxn\"\n",
    "msg = DecodeMsg(msg)\n",
    "print(msg)\n",
    "\n",
    "# My example case\n",
    "msg1 = \"itiswhatitis\"\n",
    "msg1 = EncodeMsg(msg1)\n",
    "print(msg1)\n",
    "msg1 = DecodeMsg(msg1)\n",
    "print(msg1)\n",
    "\n"
   ]
  },
  {
   "cell_type": "code",
   "execution_count": 8,
   "metadata": {
    "collapsed": false
   },
   "outputs": [
    {
     "name": "stdout",
     "output_type": "stream",
     "text": [
      "fwaf\n",
      "co\n"
     ]
    }
   ],
   "source": [
    "msg = \"foodisgood\"\n",
    "# encode\n",
    "msg = EncodeMsg(msg)\n",
    "print(msg)\n",
    "#decode\n",
    "msg = DecodeMsg(msg)\n",
    "print(msg)\n",
    "\n"
   ]
  },
  {
   "cell_type": "code",
   "execution_count": 0,
   "metadata": {
    "collapsed": false
   },
   "outputs": [
   ],
   "source": [
   ]
  },
  {
   "cell_type": "code",
   "execution_count": 0,
   "metadata": {
    "collapsed": false
   },
   "outputs": [
   ],
   "source": [
   ]
  },
  {
   "cell_type": "code",
   "execution_count": 0,
   "metadata": {
    "collapsed": false
   },
   "outputs": [
   ],
   "source": [
   ]
  }
 ],
 "metadata": {
  "kernelspec": {
   "display_name": "Python 3 (system-wide)",
   "language": "python",
   "metadata": {
    "cocalc": {
     "description": "Python 3 programming language",
     "priority": 100,
     "url": "https://www.python.org/"
    }
   },
   "name": "python3",
   "resource_dir": "/ext/jupyter/kernels/python3"
  },
  "language_info": {
   "codemirror_mode": {
    "name": "ipython",
    "version": 3
   },
   "file_extension": ".py",
   "mimetype": "text/x-python",
   "name": "python",
   "nbconvert_exporter": "python",
   "pygments_lexer": "ipython3",
   "version": "3.8.10"
  }
 },
 "nbformat": 4,
 "nbformat_minor": 4
}